{
 "cells": [
  {
   "cell_type": "code",
   "execution_count": 3,
   "metadata": {
    "scrolled": false
   },
   "outputs": [
    {
     "name": "stdout",
     "output_type": "stream",
     "text": [
      "                                              job_title  \\\n",
      "0                         Chief Marketing Officer (CMO)   \n",
      "1                                      Registered Nurse   \n",
      "2                                      Dental Hygienist   \n",
      "3                           Senior Salesforce Developer   \n",
      "4     DEPUTY EXECUTIVE DIRECTOR, PROGRAM AND LEGAL A...   \n",
      "...                                                 ...   \n",
      "3319    Data Engineer/Architect with Security Clearance   \n",
      "3320              Data Engineer with Security Clearance   \n",
      "3321         Data Engineer, Mid with Security Clearance   \n",
      "3322       Data Modeler, Senior with Security Clearance   \n",
      "3323      Data Engineer, Senior with Security Clearance   \n",
      "\n",
      "                                    company state           city  min_salary  \\\n",
      "0                      National Debt Relief    NY       New York         NaN   \n",
      "1         Queens Boulevard Endoscopy Center    NY      Rego Park         NaN   \n",
      "2                            Batista Dental    NJ  West New York         NaN   \n",
      "3                      National Debt Relief    NY       New York     44587.0   \n",
      "4     National Advocates for Pregnant Women    NY       New York    125410.0   \n",
      "...                                     ...   ...            ...         ...   \n",
      "3319                    Booz Allen Hamilton    VA         McLean     74916.0   \n",
      "3320                    Booz Allen Hamilton    VA      Arlington     58824.0   \n",
      "3321                    Booz Allen Hamilton    VA        Herndon     58824.0   \n",
      "3322                    Booz Allen Hamilton    VA    Springfield     90454.0   \n",
      "3323                    Booz Allen Hamilton    VA        Herndon     91443.0   \n",
      "\n",
      "      max_salary                                           job_desc  \\\n",
      "0            NaN  Who We're Looking For:\\n\\nThe Chief Marketing ...   \n",
      "1            NaN  Queens Boulevard Endoscopy Center, an endoscop...   \n",
      "2            NaN  Part-time or Full-timedental hygienist positio...   \n",
      "3        82162.0  Principle Duties & Responsibilities:\\n\\nAnalyz...   \n",
      "4       212901.0  For FULL Job Announcement, visit our website: ...   \n",
      "...          ...                                                ...   \n",
      "3319    128610.0  Job Number: R0082817 Data Engineer/Architect\\n...   \n",
      "3320    112227.0  Job Number: R0083152 Data Engineer\\n\\nThe Chal...   \n",
      "3321    112227.0  Job Number: R0083073 Data Engineer, Mid\\n\\nKey...   \n",
      "3322    151998.0  Job Number: R0082912 Data Modeler, Senior\\n\\nT...   \n",
      "3323    155868.0  Job Number: R0083334 Data Engineer, Senior\\n\\n...   \n",
      "\n",
      "               industry  rating date_posted valid_until   job_type    id  \n",
      "0               Finance     4.0  2020-05-08  2020-06-07  FULL_TIME     0  \n",
      "1                   NaN     3.0  2020-04-25  2020-06-07  FULL_TIME     1  \n",
      "2                   NaN     NaN  2020-05-02  2020-06-07  PART_TIME     2  \n",
      "3               Finance     4.0  2020-05-08  2020-06-07  FULL_TIME     3  \n",
      "4                   NaN     NaN  2020-04-28  2020-06-07  FULL_TIME     4  \n",
      "...                 ...     ...         ...         ...        ...   ...  \n",
      "3319  Business Services     3.7  2020-04-24  2020-06-06  FULL_TIME  3319  \n",
      "3320  Business Services     3.7  2020-05-02  2020-06-06  FULL_TIME  3320  \n",
      "3321  Business Services     3.7  2020-05-07  2020-06-06  FULL_TIME  3321  \n",
      "3322  Business Services     3.7  2020-04-28  2020-06-06  FULL_TIME  3322  \n",
      "3323  Business Services     3.7  2020-05-02  2020-06-06  FULL_TIME  3323  \n",
      "\n",
      "[3324 rows x 13 columns]\n"
     ]
    }
   ],
   "source": [
    "import pandas as pd\n",
    "data = pd.read_csv('data.csv')\n",
    "print(data)\n"
   ]
  },
  {
   "cell_type": "markdown",
   "metadata": {},
   "source": [
    "## requisito 2 - get_unique_job_types\n",
    "\n",
    " "
   ]
  },
  {
   "cell_type": "code",
   "execution_count": 17,
   "metadata": {},
   "outputs": [
    {
     "name": "stdout",
     "output_type": "stream",
     "text": [
      "{'PART_TIME', 'CONTRACTOR', 'OTHER'}\n"
     ]
    }
   ],
   "source": [
    "data = [\n",
    "  {'job_type': 'CONTRACTOR', 'min_salary': 1200, 'max_salary': 2300},\n",
    "  {'job_type': 'CONTRACTOR', 'min_salary': 3000, 'max_salary': 5000},\n",
    "  {'job_type': 'OTHER', 'min_salary': 6000, 'max_salary': 8000},\n",
    "  {'job_type': 'PART_TIME', 'min_salary': 9000, 'max_salary': 12000},\n",
    "]\n",
    "\n",
    "conjunto = set()\n",
    "compreension = [conjunto.add(element['job_type']) for element in data]\n",
    "print(conjunto)"
   ]
  },
  {
   "cell_type": "markdown",
   "metadata": {},
   "source": []
  },
  {
   "cell_type": "code",
   "execution_count": 18,
   "metadata": {},
   "outputs": [],
   "source": []
  },
  {
   "cell_type": "markdown",
   "metadata": {},
   "source": [
    "## requisito 3 - get_unique_industries"
   ]
  },
  {
   "cell_type": "code",
   "execution_count": 20,
   "metadata": {},
   "outputs": [
    {
     "name": "stdout",
     "output_type": "stream",
     "text": [
      "{'Business', 'Finance', 'Services'}\n"
     ]
    }
   ],
   "source": [
    "data = [\n",
    "  {'job_type': 'CONTRACTOR', 'min_salary': 1200, 'max_salary': 2300, 'industry': 'Finance'},\n",
    "  {'job_type': 'CONTRACTOR', 'min_salary': 3000, 'max_salary': 5000, 'industry': 'Business'},\n",
    "  {'job_type': 'OTHER', 'min_salary': 6000, 'max_salary': 8000, 'industry': 'Services'},\n",
    "  {'job_type': 'PART_TIME', 'min_salary': 9000, 'max_salary': 12000, 'industry': 'Finance'},\n",
    "]\n",
    "\n",
    "filtered_industries = set()\n",
    "[filtered_industries.add(el['industry']) for el in data if el['industry'] != '']\n",
    "print(filtered_industries)\n"
   ]
  },
  {
   "cell_type": "markdown",
   "metadata": {},
   "source": [
    "## requisito 4 - get_max_salary"
   ]
  },
  {
   "cell_type": "code",
   "execution_count": 24,
   "metadata": {},
   "outputs": [
    {
     "ename": "NameError",
     "evalue": "name 'job' is not defined",
     "output_type": "error",
     "traceback": [
      "\u001b[0;31m---------------------------------------------------------------------------\u001b[0m",
      "\u001b[0;31mNameError\u001b[0m                                 Traceback (most recent call last)",
      "\u001b[0;32m/tmp/ipykernel_6844/4022626843.py\u001b[0m in \u001b[0;36m<module>\u001b[0;34m\u001b[0m\n\u001b[1;32m      7\u001b[0m \u001b[0;34m\u001b[0m\u001b[0m\n\u001b[1;32m      8\u001b[0m \u001b[0msalaries\u001b[0m \u001b[0;34m=\u001b[0m \u001b[0mset\u001b[0m\u001b[0;34m(\u001b[0m\u001b[0;34m)\u001b[0m\u001b[0;34m\u001b[0m\u001b[0;34m\u001b[0m\u001b[0m\n\u001b[0;32m----> 9\u001b[0;31m \u001b[0;34m[\u001b[0m\u001b[0msalaries\u001b[0m\u001b[0;34m.\u001b[0m\u001b[0madd\u001b[0m\u001b[0;34m(\u001b[0m\u001b[0mel\u001b[0m\u001b[0;34m[\u001b[0m\u001b[0;34m'max_salary'\u001b[0m\u001b[0;34m]\u001b[0m\u001b[0;34m)\u001b[0m \u001b[0;32mfor\u001b[0m \u001b[0mel\u001b[0m \u001b[0;32min\u001b[0m \u001b[0mdata\u001b[0m \u001b[0;32mif\u001b[0m \u001b[0mjob\u001b[0m\u001b[0;34m[\u001b[0m\u001b[0;34m\"max_salary\"\u001b[0m\u001b[0;34m]\u001b[0m\u001b[0;34m.\u001b[0m\u001b[0misnumeric\u001b[0m\u001b[0;34m(\u001b[0m\u001b[0;34m)\u001b[0m\u001b[0;34m]\u001b[0m\u001b[0;34m\u001b[0m\u001b[0;34m\u001b[0m\u001b[0m\n\u001b[0m\u001b[1;32m     10\u001b[0m \u001b[0mprint\u001b[0m\u001b[0;34m(\u001b[0m\u001b[0mmax\u001b[0m\u001b[0;34m(\u001b[0m\u001b[0msalaries\u001b[0m\u001b[0;34m)\u001b[0m\u001b[0;34m)\u001b[0m\u001b[0;34m\u001b[0m\u001b[0;34m\u001b[0m\u001b[0m\n",
      "\u001b[0;32m/tmp/ipykernel_6844/4022626843.py\u001b[0m in \u001b[0;36m<listcomp>\u001b[0;34m(.0)\u001b[0m\n\u001b[1;32m      7\u001b[0m \u001b[0;34m\u001b[0m\u001b[0m\n\u001b[1;32m      8\u001b[0m \u001b[0msalaries\u001b[0m \u001b[0;34m=\u001b[0m \u001b[0mset\u001b[0m\u001b[0;34m(\u001b[0m\u001b[0;34m)\u001b[0m\u001b[0;34m\u001b[0m\u001b[0;34m\u001b[0m\u001b[0m\n\u001b[0;32m----> 9\u001b[0;31m \u001b[0;34m[\u001b[0m\u001b[0msalaries\u001b[0m\u001b[0;34m.\u001b[0m\u001b[0madd\u001b[0m\u001b[0;34m(\u001b[0m\u001b[0mel\u001b[0m\u001b[0;34m[\u001b[0m\u001b[0;34m'max_salary'\u001b[0m\u001b[0;34m]\u001b[0m\u001b[0;34m)\u001b[0m \u001b[0;32mfor\u001b[0m \u001b[0mel\u001b[0m \u001b[0;32min\u001b[0m \u001b[0mdata\u001b[0m \u001b[0;32mif\u001b[0m \u001b[0mjob\u001b[0m\u001b[0;34m[\u001b[0m\u001b[0;34m\"max_salary\"\u001b[0m\u001b[0;34m]\u001b[0m\u001b[0;34m.\u001b[0m\u001b[0misnumeric\u001b[0m\u001b[0;34m(\u001b[0m\u001b[0;34m)\u001b[0m\u001b[0;34m]\u001b[0m\u001b[0;34m\u001b[0m\u001b[0;34m\u001b[0m\u001b[0m\n\u001b[0m\u001b[1;32m     10\u001b[0m \u001b[0mprint\u001b[0m\u001b[0;34m(\u001b[0m\u001b[0mmax\u001b[0m\u001b[0;34m(\u001b[0m\u001b[0msalaries\u001b[0m\u001b[0;34m)\u001b[0m\u001b[0;34m)\u001b[0m\u001b[0;34m\u001b[0m\u001b[0;34m\u001b[0m\u001b[0m\n",
      "\u001b[0;31mNameError\u001b[0m: name 'job' is not defined"
     ]
    }
   ],
   "source": [
    "data = [\n",
    "  {'job_type': 'CONTRACTOR', 'min_salary': 1200, 'max_salary': 2300, 'industry': 'Finance'},\n",
    "  {'job_type': 'CONTRACTOR', 'min_salary': 3000, 'max_salary': 5000, 'industry': 'Business'},\n",
    "  {'job_type': 'OTHER', 'min_salary': 6000, 'max_salary': 8000, 'industry': 'Services'},\n",
    "  {'job_type': 'PART_TIME', 'min_salary': 9000, 'max_salary': 12000, 'industry': 'Finance'},\n",
    "]\n",
    "\n",
    "salaries = set()\n",
    "[salaries.add(el['max_salary']) for el in data if el[\"max_salary\"].isnumeric()]\n",
    "print(max(salaries))"
   ]
  },
  {
   "cell_type": "markdown",
   "metadata": {},
   "source": [
    "## requisito 5 - get_min_salary"
   ]
  },
  {
   "cell_type": "code",
   "execution_count": 23,
   "metadata": {},
   "outputs": [
    {
     "name": "stdout",
     "output_type": "stream",
     "text": [
      "1200\n"
     ]
    }
   ],
   "source": [
    "data = [\n",
    "  {'job_type': 'CONTRACTOR', 'min_salary': 1200, 'max_salary': 2300, 'industry': 'Finance'},\n",
    "  {'job_type': 'CONTRACTOR', 'min_salary': 3000, 'max_salary': 5000, 'industry': 'Business'},\n",
    "  {'job_type': 'OTHER', 'min_salary': 6000, 'max_salary': 8000, 'industry': 'Services'},\n",
    "  {'job_type': 'PART_TIME', 'min_salary': 9000, 'max_salary': 12000, 'industry': 'Finance'},\n",
    "]\n",
    "\n",
    "salaries = set()\n",
    "[salaries.add(el['min_salary']) for el in data]\n",
    "print(min(salaries))"
   ]
  },
  {
   "cell_type": "code",
   "execution_count": null,
   "metadata": {},
   "outputs": [],
   "source": []
  }
 ],
 "metadata": {
  "kernelspec": {
   "display_name": "Python 3 (ipykernel)",
   "language": "python",
   "name": "python3"
  },
  "language_info": {
   "codemirror_mode": {
    "name": "ipython",
    "version": 3
   },
   "file_extension": ".py",
   "mimetype": "text/x-python",
   "name": "python",
   "nbconvert_exporter": "python",
   "pygments_lexer": "ipython3",
   "version": "3.9.7"
  }
 },
 "nbformat": 4,
 "nbformat_minor": 2
}
